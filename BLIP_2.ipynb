{
  "nbformat": 4,
  "nbformat_minor": 0,
  "metadata": {
    "colab": {
      "provenance": [],
      "gpuType": "T4",
      "authorship_tag": "ABX9TyOo4z+W6bi5Jl39B6G77SpG",
      "include_colab_link": true
    },
    "kernelspec": {
      "name": "python3",
      "display_name": "Python 3"
    },
    "language_info": {
      "name": "python"
    },
    "accelerator": "GPU"
  },
  "cells": [
    {
      "cell_type": "markdown",
      "metadata": {
        "id": "view-in-github",
        "colab_type": "text"
      },
      "source": [
        "<a href=\"https://colab.research.google.com/github/HaitaanshDixit/Research_Paper/blob/main/BLIP_2.ipynb\" target=\"_parent\"><img src=\"https://colab.research.google.com/assets/colab-badge.svg\" alt=\"Open In Colab\"/></a>"
      ]
    },
    {
      "cell_type": "code",
      "execution_count": null,
      "metadata": {
        "id": "Zoh651bZy2qh"
      },
      "outputs": [],
      "source": [
        "!pip install transformers accelerate timm\n",
        "!pip install git+https://github.com/salesforce/BLIP.git"
      ]
    },
    {
      "cell_type": "code",
      "source": [
        "from transformers import Blip2Processor, Blip2ForConditionalGeneration\n",
        "from PIL import Image\n",
        "import torch"
      ],
      "metadata": {
        "id": "PyYtcis39MG5"
      },
      "execution_count": null,
      "outputs": []
    },
    {
      "cell_type": "code",
      "source": [
        "processor = Blip2Processor.from_pretrained(\"Salesforce/blip2-flan-t5-xl\")\n",
        "model = Blip2ForConditionalGeneration.from_pretrained(\n",
        "    \"Salesforce/blip2-flan-t5-xl\",\n",
        "    torch_dtype=torch.float16,\n",
        "    device_map=\"auto\"\n",
        ")\n",
        "model.to(\"cuda\" if torch.cuda.is_available() else \"cpu\")"
      ],
      "metadata": {
        "id": "zWb0EX9b9TUO"
      },
      "execution_count": null,
      "outputs": []
    },
    {
      "cell_type": "code",
      "source": [
        "from google.colab import files\n",
        "from PIL import Image\n",
        "\n",
        "# Upload image\n",
        "uploaded = files.upload()\n",
        "\n",
        "# Open the first uploaded image\n",
        "image_path = list(uploaded.keys())[0]\n",
        "image = Image.open(image_path).convert(\"RGB\")\n"
      ],
      "metadata": {
        "id": "IhE7ONDjId-U"
      },
      "execution_count": null,
      "outputs": []
    },
    {
      "cell_type": "code",
      "source": [
        "text = \"\"\"A house is being manifested by a young adult who tries to give his best day to day everyday.\"\"\"\n",
        "instruction = f\"Read the text and image and tell what is happening\\n{text_input}\""
      ],
      "metadata": {
        "id": "cHL4nJ7yCnqn"
      },
      "execution_count": null,
      "outputs": []
    },
    {
      "cell_type": "code",
      "source": [
        "inputs = processor(images=image, text= instruction+text, return_tensors=\"pt\").to(model.device)\n",
        "\n",
        "generated_ids = model.generate(\n",
        "    **inputs,\n",
        "    max_new_tokens=100,\n",
        "    do_sample=True,\n",
        "    temperature=0.96,\n",
        "    top_p=0.9,\n",
        "    repetition_penalty=1.2,\n",
        ")\n",
        "\n",
        "summary = processor.tokenizer.decode(generated_ids[0], skip_special_tokens=True)\n",
        "\n",
        "print(\"Generated Summary:\\n\", summary)"
      ],
      "metadata": {
        "id": "6c6EYDoUDgee"
      },
      "execution_count": null,
      "outputs": []
    }
  ]
}