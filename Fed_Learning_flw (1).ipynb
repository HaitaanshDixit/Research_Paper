{
  "nbformat": 4,
  "nbformat_minor": 0,
  "metadata": {
    "colab": {
      "provenance": [],
      "gpuType": "T4"
    },
    "kernelspec": {
      "name": "python3",
      "display_name": "Python 3"
    },
    "language_info": {
      "name": "python"
    },
    "accelerator": "GPU"
  },
  "cells": [
    {
      "cell_type": "code",
      "execution_count": null,
      "metadata": {
        "id": "45Yp3pML2wlh"
      },
      "outputs": [],
      "source": [
        "!pip install flwr transformers torch torchvision accelerate\n",
        "!pip install --upgrade flwr"
      ]
    },
    {
      "cell_type": "code",
      "source": [
        "import flwr as fl\n",
        "import torch\n",
        "from transformers import AutoModelForCausalLM, AutoTokenizer"
      ],
      "metadata": {
        "id": "oUl14Psk6EV1"
      },
      "execution_count": null,
      "outputs": []
    },
    {
      "cell_type": "code",
      "source": [
        "from huggingface_hub import login\n",
        "login(new_session=False)"
      ],
      "metadata": {
        "id": "uu_IGxoHENuj"
      },
      "execution_count": null,
      "outputs": []
    },
    {
      "cell_type": "code",
      "source": [
        "from huggingface_hub import notebook_login\n",
        "\n",
        "notebook_login()"
      ],
      "metadata": {
        "id": "wbVsKHVSFY_k"
      },
      "execution_count": null,
      "outputs": []
    },
    {
      "cell_type": "code",
      "source": [
        "#MODEL_NAME = \"google/gemma-2-2b-it\"\n",
        "#tokenizer = AutoTokenizer.from_pretrained(MODEL_NAME)\n",
        "tokenizer = AutoTokenizer.from_pretrained(\"google/gemma-2-2b-it\")\n",
        "model = AutoModelForCausalLM.from_pretrained(\n",
        "    \"google/gemma-2-2b-it\",\n",
        "    device_map=\"auto\",\n",
        "    torch_dtype=torch.bfloat16,\n",
        ")"
      ],
      "metadata": {
        "id": "-cRKV6jF6Si-"
      },
      "execution_count": null,
      "outputs": []
    },
    {
      "cell_type": "code",
      "source": [
        "# Loading the datasets\n",
        "\n",
        "\n"
      ],
      "metadata": {
        "id": "7XBbovKg6bDr"
      },
      "execution_count": null,
      "outputs": []
    },
    {
      "cell_type": "code",
      "source": [
        "class GemmaFLClient(fl.client.NumPyClient):\n",
        "    def __init__(self, model, dataloader):\n",
        "        self.model = model\n",
        "        self.dataloader = dataloader\n",
        "        self.tokenizer = tokenizer\n",
        "        self.model.train()\n",
        "\n",
        "    def get_parameters(self, config):\n",
        "        return [val.cpu().numpy() for val in self.model.parameters()]\n",
        "\n",
        "    def set_parameters(self, parameters):\n",
        "        for p, new_val in zip(self.model.parameters(), parameters):\n",
        "            p.data = torch.tensor(new_val).to(p.device)\n",
        "\n",
        "    def fit(self, parameters, config):\n",
        "        self.set_parameters(parameters)\n",
        "        optimizer = torch.optim.Adam(self.model.parameters(), lr=5e-5)\n",
        "\n",
        "        for input_text, target_text in self.dataloader:\n",
        "            inputs = self.tokenizer(input_text, return_tensors=\"pt\", padding=True, truncation=True).to(self.model.device)\n",
        "            targets = self.tokenizer(target_text, return_tensors=\"pt\", padding=True, truncation=True).input_ids.to(self.model.device)\n",
        "            outputs = self.model(**inputs, labels=targets)\n",
        "            loss = outputs.loss\n",
        "            loss.backward()\n",
        "            optimizer.step()\n",
        "            optimizer.zero_grad()\n",
        "\n",
        "        return self.get_parameters(config), len(self.dataloader.dataset), {}\n",
        "\n",
        "def evaluate(self, parameters, config):\n",
        "        self.set_parameters(parameters)\n",
        "        self.model.eval()\n",
        "        total_loss = 0\n",
        "        with torch.no_grad():\n",
        "            for input_text, target_text in self.dataloader:\n",
        "                inputs = self.tokenizer(input_text, return_tensors=\"pt\", padding=True, truncation=True).to(self.model.device)\n",
        "                targets = self.tokenizer(target_text, return_tensors=\"pt\", padding=True, truncation=True).input_ids.to(self.model.device)\n",
        "                outputs = self.model(**inputs, labels=targets)\n",
        "                total_loss += outputs.loss.item()\n",
        "\n",
        "        return total_loss / len(self.dataloader), len(self.dataloader.dataset), {}"
      ],
      "metadata": {
        "id": "S85-my7JGuXB"
      },
      "execution_count": null,
      "outputs": []
    },
    {
      "cell_type": "code",
      "source": [
        "def client_fn(cid: str):\n",
        "    lang_map = {\"0\": \"hindi\", \"1\": \"marathi\", \"2\": \"gujarati\", \"3\": \"bengali\"}\n",
        "    lang = lang_map[cid]\n",
        "    model = load_model()\n",
        "    data_loader = load_dataset(lang)\n",
        "    return GemmaFLClient(model, data_loader)\n"
      ],
      "metadata": {
        "id": "mwLkfxeMH9A7"
      },
      "execution_count": null,
      "outputs": []
    },
    {
      "cell_type": "code",
      "source": [
        "strategy = fl.server.strategy.FedAvg(\n",
        "    fraction_fit=1.0,\n",
        "    min_fit_clients=4,\n",
        "    min_available_clients=4\n",
        ")"
      ],
      "metadata": {
        "id": "ZnJZV2MqIJED"
      },
      "execution_count": null,
      "outputs": []
    },
    {
      "cell_type": "code",
      "source": [
        "fl.simulation.start_simulation(\n",
        "    client_fn=client_fn,\n",
        "    num_clients=4,\n",
        "    config=fl.simulation.ClientSimulationConfig(num_clients=4),\n",
        "    strategy=strategy\n",
        ")\n"
      ],
      "metadata": {
        "id": "MBhkfMDhIPSc"
      },
      "execution_count": null,
      "outputs": []
    }
  ]
}